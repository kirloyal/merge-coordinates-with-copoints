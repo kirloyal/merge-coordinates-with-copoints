{
 "cells": [
  {
   "cell_type": "code",
   "execution_count": 1,
   "metadata": {},
   "outputs": [],
   "source": [
    "import numpy as np\n",
    "import cv2\n",
    "import scipy\n",
    "from scipy import linalg\n",
    "import io\n",
    "import os \n",
    "import matplotlib.pyplot as plt\n",
    "\n",
    "plt.rcParams[\"figure.figsize\"] = (12,9)\n"
   ]
  },
  {
   "cell_type": "code",
   "execution_count": 2,
   "metadata": {
    "collapsed": true
   },
   "outputs": [],
   "source": [
    "path = \"data\"\n",
    "filenames = [\"3d_1.txt\", \"3d_2.txt\"]\n",
    "\n",
    "pointsets = []\n",
    "for filename in filenames:\n",
    "    file_3d = os.path.join(path,filename)\n",
    "    delimiter3d = ' '\n",
    "\n",
    "    pointset = {}\n",
    "    with open(file_3d) as f3d:\n",
    "        for l3d in f3d:\n",
    "            l3d_split = l3d.split(delimiter3d)\n",
    "            if len(l3d_split)==4:\n",
    "                pointset[l3d_split[0]] = np.array([float(num) for num in l3d_split[1:]])\n",
    "    pointsets.append(pointset)"
   ]
  },
  {
   "cell_type": "code",
   "execution_count": 58,
   "metadata": {},
   "outputs": [
    {
     "name": "stdout",
     "output_type": "stream",
     "text": [
      "2.270937056891853e-05\n",
      "[[0.99999994 0.         0.        ]\n",
      " [0.         0.99999994 0.        ]\n",
      " [0.         0.         1.        ]]\n",
      "4.12907710216632\n",
      "[[ 0.9995786   0.02902823  0.        ]\n",
      " [-0.02902823  0.9995786   0.        ]\n",
      " [ 0.          0.          1.        ]]\n",
      "2.1132280506521255\n",
      "[[ 0.9995786  -0.02902823  0.        ]\n",
      " [ 0.02902823  0.9995786   0.        ]\n",
      " [ 0.          0.          1.        ]]\n",
      "0.0\n",
      "[[1. 0. 0.]\n",
      " [0. 1. 0.]\n",
      " [0. 0. 1.]]\n"
     ]
    }
   ],
   "source": [
    "for pointset_tgt in pointsets:\n",
    "    for pointset_src in pointsets:\n",
    "        p_tgt = []\n",
    "        p_src = []\n",
    "        for key in list(set(pointset_tgt.keys()) & set(pointset_src.keys())):\n",
    "            p_tgt.append(pointset_tgt[key])\n",
    "            p_src.append(pointset_src[key])\n",
    "        p_tgt = np.array(p_tgt).astype('float32')\n",
    "        p_src = np.array(p_src).astype('float32')\n",
    "        p_tgt_mean = p_tgt.mean(axis=0)\n",
    "        p_src_mean = p_src.mean(axis=0)\n",
    "        p_tgt_ = p_tgt - p_tgt_mean\n",
    "        p_src_ = p_src - p_src_mean\n",
    "        H = np.dot(p_src_[:,:2].T, p_tgt_[:,:2])\n",
    "        u,s,vh = np.linalg.svd(H)\n",
    "        R = np.dot(vh.T, u.T)\n",
    "        R = np.hstack( (np.vstack((R,np.array([0,0]))), np.array([0,0,1]).reshape(3,1)) )\n",
    "        t = p_tgt_mean - np.dot(R , p_src_mean)\n",
    "        p_src_aligned = np.dot(R , p_src.T).T + t\n",
    "        print np.max(p_tgt - p_src_aligned)\n",
    "        print R\n"
   ]
  },
  {
   "cell_type": "code",
   "execution_count": 57,
   "metadata": {},
   "outputs": [
    {
     "name": "stdout",
     "output_type": "stream",
     "text": [
      "4.12907710216632\n",
      "[[ 0.9995786   0.02902823  0.        ]\n",
      " [-0.02902823  0.9995786   0.        ]\n",
      " [ 0.          0.          1.        ]]\n"
     ]
    }
   ],
   "source": [
    "pointset_tgt = pointsets[0]\n",
    "pointset_src = pointsets[1]\n",
    "p_tgt = []\n",
    "p_src = []\n",
    "for key in list(set(pointset_tgt.keys()) & set(pointset_src.keys())):\n",
    "    p_tgt.append(pointset_tgt[key])\n",
    "    p_src.append(pointset_src[key])\n",
    "p_tgt = np.array(p_tgt).astype('float32')\n",
    "p_src = np.array(p_src).astype('float32')\n",
    "p_tgt_mean = p_tgt.mean(axis=0)\n",
    "p_src_mean = p_src.mean(axis=0)\n",
    "p_tgt_ = p_tgt - p_tgt_mean\n",
    "p_src_ = p_src - p_src_mean\n",
    "H = np.dot(p_src_[:,:2].T, p_tgt_[:,:2])\n",
    "u,s,vh = np.linalg.svd(H)\n",
    "R = np.dot(vh.T, u.T)\n",
    "R = np.hstack( (np.vstack((R,np.array([0,0]))), np.array([0,0,1]).reshape(3,1)) )\n",
    "t = p_tgt_mean - np.dot(R , p_src_mean)\n",
    "p_src_aligned = np.dot(R , p_src.T).T + t\n",
    "print np.max(p_tgt - p_src_aligned)\n",
    "print R\n"
   ]
  },
  {
   "cell_type": "code",
   "execution_count": 59,
   "metadata": {},
   "outputs": [
    {
     "data": {
      "text/plain": [
       "array([-100.423065, -226.89232 ,  130.7846  ], dtype=float32)"
      ]
     },
     "execution_count": 59,
     "metadata": {},
     "output_type": "execute_result"
    }
   ],
   "source": [
    "p_tgt_mean"
   ]
  },
  {
   "cell_type": "code",
   "execution_count": 11,
   "metadata": {},
   "outputs": [
    {
     "data": {
      "text/plain": [
       "array([[ -1.5, -11.7, 215.5],\n",
       "       [-94.6, -17.7,   0. ],\n",
       "       [ -1.5, -11.7, 209.1],\n",
       "       [  0.5,   0.5,   0. ]], dtype=float32)"
      ]
     },
     "execution_count": 11,
     "metadata": {},
     "output_type": "execute_result"
    }
   ],
   "source": [
    "p_tgt"
   ]
  },
  {
   "cell_type": "code",
   "execution_count": 51,
   "metadata": {},
   "outputs": [
    {
     "data": {
      "text/plain": [
       "array([[ 0.93589294,  0.35220277,  0.0075932 ],\n",
       "       [ 0.35169208, -0.9328521 , -0.07810004],\n",
       "       [ 0.0204237 , -0.07576375,  0.9969166 ]], dtype=float32)"
      ]
     },
     "execution_count": 51,
     "metadata": {},
     "output_type": "execute_result"
    }
   ],
   "source": [
    "R"
   ]
  },
  {
   "cell_type": "code",
   "execution_count": 44,
   "metadata": {},
   "outputs": [
    {
     "data": {
      "text/plain": [
       "array([[ 0.99991834, -0.01234196, -0.00328646,  0.        ],\n",
       "       [ 0.01224281,  0.99951458, -0.0286483 ,  0.        ],\n",
       "       [ 0.00363845,  0.02860573,  0.99958414,  0.        ],\n",
       "       [ 0.        ,  0.        ,  0.        ,  1.        ]])"
      ]
     },
     "execution_count": 44,
     "metadata": {},
     "output_type": "execute_result"
    }
   ],
   "source": []
  },
  {
   "cell_type": "code",
   "execution_count": 39,
   "metadata": {},
   "outputs": [
    {
     "data": {
      "text/plain": [
       "array([[0, 0, 0, 1]])"
      ]
     },
     "execution_count": 39,
     "metadata": {},
     "output_type": "execute_result"
    }
   ],
   "source": [
    " np.array([[0,0,0,1]])"
   ]
  },
  {
   "cell_type": "code",
   "execution_count": 30,
   "metadata": {},
   "outputs": [
    {
     "data": {
      "text/plain": [
       "array([[ 0.99991834, -0.01234196, -0.00328646],\n",
       "       [ 0.01224281,  0.9995146 , -0.0286483 ],\n",
       "       [ 0.00363845,  0.02860573,  0.99958414]], dtype=float32)"
      ]
     },
     "execution_count": 30,
     "metadata": {},
     "output_type": "execute_result"
    }
   ],
   "source": [
    "R"
   ]
  },
  {
   "cell_type": "code",
   "execution_count": null,
   "metadata": {
    "collapsed": true
   },
   "outputs": [],
   "source": []
  }
 ],
 "metadata": {
  "anaconda-cloud": {},
  "kernelspec": {
   "display_name": "Python [default]",
   "language": "python",
   "name": "python2"
  },
  "language_info": {
   "codemirror_mode": {
    "name": "ipython",
    "version": 2
   },
   "file_extension": ".py",
   "mimetype": "text/x-python",
   "name": "python",
   "nbconvert_exporter": "python",
   "pygments_lexer": "ipython2",
   "version": "2.7.13"
  }
 },
 "nbformat": 4,
 "nbformat_minor": 2
}
